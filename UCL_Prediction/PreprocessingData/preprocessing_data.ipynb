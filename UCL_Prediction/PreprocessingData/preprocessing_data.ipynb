{
 "cells": [
  {
   "cell_type": "code",
   "execution_count": 48,
   "id": "5d3b37bb-0545-48a6-8bd7-b59a477b9263",
   "metadata": {
    "scrolled": true,
    "ExecuteTime": {
     "end_time": "2024-01-27T14:08:45.419111Z",
     "start_time": "2024-01-27T14:08:45.398539600Z"
    }
   },
   "outputs": [
    {
     "ename": "OptionError",
     "evalue": "Pattern matched multiple keys",
     "output_type": "error",
     "traceback": [
      "\u001B[1;31m---------------------------------------------------------------------------\u001B[0m",
      "\u001B[1;31mOptionError\u001B[0m                               Traceback (most recent call last)",
      "Cell \u001B[1;32mIn[48], line 3\u001B[0m\n\u001B[0;32m      1\u001B[0m \u001B[38;5;28;01mimport\u001B[39;00m \u001B[38;5;21;01mpandas\u001B[39;00m \u001B[38;5;28;01mas\u001B[39;00m \u001B[38;5;21;01mpd\u001B[39;00m\n\u001B[0;32m      2\u001B[0m \u001B[38;5;28;01mimport\u001B[39;00m \u001B[38;5;21;01mnumpy\u001B[39;00m \u001B[38;5;28;01mas\u001B[39;00m \u001B[38;5;21;01mnp\u001B[39;00m\n\u001B[1;32m----> 3\u001B[0m \u001B[43mpd\u001B[49m\u001B[38;5;241;43m.\u001B[39;49m\u001B[43mset_option\u001B[49m\u001B[43m(\u001B[49m\u001B[38;5;124;43m'\u001B[39;49m\u001B[38;5;124;43mmax_columns\u001B[39;49m\u001B[38;5;124;43m'\u001B[39;49m\u001B[43m,\u001B[49m\u001B[43m \u001B[49m\u001B[38;5;241;43m10\u001B[39;49m\u001B[43m)\u001B[49m\n",
      "File \u001B[1;32m~\\AppData\\Local\\Programs\\Python\\Python311\\Lib\\site-packages\\pandas\\_config\\config.py:274\u001B[0m, in \u001B[0;36mCallableDynamicDoc.__call__\u001B[1;34m(self, *args, **kwds)\u001B[0m\n\u001B[0;32m    273\u001B[0m \u001B[38;5;28;01mdef\u001B[39;00m \u001B[38;5;21m__call__\u001B[39m(\u001B[38;5;28mself\u001B[39m, \u001B[38;5;241m*\u001B[39margs, \u001B[38;5;241m*\u001B[39m\u001B[38;5;241m*\u001B[39mkwds) \u001B[38;5;241m-\u001B[39m\u001B[38;5;241m>\u001B[39m T:\n\u001B[1;32m--> 274\u001B[0m     \u001B[38;5;28;01mreturn\u001B[39;00m \u001B[38;5;28;43mself\u001B[39;49m\u001B[38;5;241;43m.\u001B[39;49m\u001B[38;5;18;43m__func__\u001B[39;49m\u001B[43m(\u001B[49m\u001B[38;5;241;43m*\u001B[39;49m\u001B[43margs\u001B[49m\u001B[43m,\u001B[49m\u001B[43m \u001B[49m\u001B[38;5;241;43m*\u001B[39;49m\u001B[38;5;241;43m*\u001B[39;49m\u001B[43mkwds\u001B[49m\u001B[43m)\u001B[49m\n",
      "File \u001B[1;32m~\\AppData\\Local\\Programs\\Python\\Python311\\Lib\\site-packages\\pandas\\_config\\config.py:167\u001B[0m, in \u001B[0;36m_set_option\u001B[1;34m(*args, **kwargs)\u001B[0m\n\u001B[0;32m    164\u001B[0m     \u001B[38;5;28;01mraise\u001B[39;00m \u001B[38;5;167;01mTypeError\u001B[39;00m(\u001B[38;5;124mf\u001B[39m\u001B[38;5;124m'\u001B[39m\u001B[38;5;124m_set_option() got an unexpected keyword argument \u001B[39m\u001B[38;5;124m\"\u001B[39m\u001B[38;5;132;01m{\u001B[39;00mkwarg\u001B[38;5;132;01m}\u001B[39;00m\u001B[38;5;124m\"\u001B[39m\u001B[38;5;124m'\u001B[39m)\n\u001B[0;32m    166\u001B[0m \u001B[38;5;28;01mfor\u001B[39;00m k, v \u001B[38;5;129;01min\u001B[39;00m \u001B[38;5;28mzip\u001B[39m(args[::\u001B[38;5;241m2\u001B[39m], args[\u001B[38;5;241m1\u001B[39m::\u001B[38;5;241m2\u001B[39m]):\n\u001B[1;32m--> 167\u001B[0m     key \u001B[38;5;241m=\u001B[39m \u001B[43m_get_single_key\u001B[49m\u001B[43m(\u001B[49m\u001B[43mk\u001B[49m\u001B[43m,\u001B[49m\u001B[43m \u001B[49m\u001B[43msilent\u001B[49m\u001B[43m)\u001B[49m\n\u001B[0;32m    169\u001B[0m     o \u001B[38;5;241m=\u001B[39m _get_registered_option(key)\n\u001B[0;32m    170\u001B[0m     \u001B[38;5;28;01mif\u001B[39;00m o \u001B[38;5;129;01mand\u001B[39;00m o\u001B[38;5;241m.\u001B[39mvalidator:\n",
      "File \u001B[1;32m~\\AppData\\Local\\Programs\\Python\\Python311\\Lib\\site-packages\\pandas\\_config\\config.py:134\u001B[0m, in \u001B[0;36m_get_single_key\u001B[1;34m(pat, silent)\u001B[0m\n\u001B[0;32m    132\u001B[0m     \u001B[38;5;28;01mraise\u001B[39;00m OptionError(\u001B[38;5;124mf\u001B[39m\u001B[38;5;124m\"\u001B[39m\u001B[38;5;124mNo such keys(s): \u001B[39m\u001B[38;5;132;01m{\u001B[39;00m\u001B[38;5;28mrepr\u001B[39m(pat)\u001B[38;5;132;01m}\u001B[39;00m\u001B[38;5;124m\"\u001B[39m)\n\u001B[0;32m    133\u001B[0m \u001B[38;5;28;01mif\u001B[39;00m \u001B[38;5;28mlen\u001B[39m(keys) \u001B[38;5;241m>\u001B[39m \u001B[38;5;241m1\u001B[39m:\n\u001B[1;32m--> 134\u001B[0m     \u001B[38;5;28;01mraise\u001B[39;00m OptionError(\u001B[38;5;124m\"\u001B[39m\u001B[38;5;124mPattern matched multiple keys\u001B[39m\u001B[38;5;124m\"\u001B[39m)\n\u001B[0;32m    135\u001B[0m key \u001B[38;5;241m=\u001B[39m keys[\u001B[38;5;241m0\u001B[39m]\n\u001B[0;32m    137\u001B[0m \u001B[38;5;28;01mif\u001B[39;00m \u001B[38;5;129;01mnot\u001B[39;00m silent:\n",
      "\u001B[1;31mOptionError\u001B[0m: Pattern matched multiple keys"
     ]
    }
   ],
   "source": [
    "import pandas as pd\n",
    "import numpy as np\n",
    "pd.set_option('max_columns', 10)"
   ]
  },
  {
   "cell_type": "code",
   "execution_count": 51,
   "id": "12b7297c-4187-407a-8ddf-f6d55a9b9df3",
   "metadata": {
    "ExecuteTime": {
     "end_time": "2024-01-27T14:09:01.903536Z",
     "start_time": "2024-01-27T14:09:01.887166Z"
    }
   },
   "outputs": [],
   "source": [
    "all_matches=pd.read_csv('SEASONS20052023_final.xls', sep=';')\n",
    "team_stats=pd.read_csv('stats.xls')"
   ]
  },
  {
   "cell_type": "code",
   "execution_count": 52,
   "id": "1a6e59bd-ccb4-4adb-a1f0-2ac6df19a8d2",
   "metadata": {
    "ExecuteTime": {
     "end_time": "2024-01-27T14:09:02.789983500Z",
     "start_time": "2024-01-27T14:09:02.772052800Z"
    }
   },
   "outputs": [
    {
     "data": {
      "text/plain": "    Unnamed: 0            Team name  Year  GK_avg_age  GK_value  Def_avg_age  \\\n0            0           Arsenal FC  2005       29.50      7.43        23.58   \n1            1          Real Madrid  2005       24.25     27.50        25.83   \n2            2           Chelsea FC  2005       24.50     26.18        24.22   \n3            3        Bayern Munich  2005       30.25      5.63        26.88   \n4            4         Liverpool FC  2005       24.00     15.80        24.31   \n5            5         FC Barcelona  2005       25.50     12.75        25.17   \n6            6    Manchester United  2005       31.00      7.40        24.58   \n7            7          Inter Milan  2005       25.57     11.25        25.44   \n8            8             AC Milan  2005       28.17     12.25        28.92   \n9            9          Juventus FC  2005       24.29     35.40        27.75   \n10          10           SL Benfica  2005       23.33      9.55        25.78   \n11          11        PSV Eindhoven  2005       27.67      4.40        26.70   \n12          12             FC Porto  2005       26.50      6.25        25.00   \n13          13           LOSC Lille  2005       27.25      3.95        24.40   \n14          14           Fenerbahce  2005       27.33      4.40        25.00   \n15          15  Real Betis Balompié  2005       27.67      4.75        26.09   \n16          16       Ajax Amsterdam  2005       26.75      5.33        23.70   \n17          17        Villarreal CF  2005       23.00      4.85        25.75   \n18          18       Olympique Lyon  2005       24.00      9.18        26.67   \n19          19       Udinese Calcio  2005       25.50      9.00        25.13   \n20          20       Club Brugge KV  2005       26.00      3.85        26.10   \n21          21           Rangers FC  2005       29.33      5.00        24.53   \n22          22       RSC Anderlecht  2005       29.00      5.70        24.11   \n23          23   Olympiacos Piraeus  2005       24.50      3.95        29.08   \n24          24     SV Werder Bremen  2005       27.25      5.75        22.89   \n25          25     Panathinaikos FC  2005       27.25      3.90        24.50   \n26          26     AC Sparta Prague  2005       25.25      1.18        25.71   \n27          27        FC Schalke 04  2005       23.50      5.55        25.46   \n28          28         Rapid Vienna  2005       28.50      2.85        27.60   \n29          29         Rosenborg BK  2005       25.50      2.90        25.75   \n\n    Def_value  Mid_avg_age  Mid_value  Att_avg_age  Att_value  \n0       59.05        22.20      4.920        22.20      97.83  \n1       76.10        24.00      6.340        24.00      98.50  \n2      101.95        25.50     11.330        25.50      95.20  \n3       63.75        26.00      7.970        26.00      29.00  \n4       57.50        25.27      4.420        25.27      72.50  \n5       70.85        25.00      5.900        25.00     146.05  \n6       87.63        23.11      7.300        23.11     109.35  \n7       63.35        23.31      3.520        23.31      81.28  \n8       58.00        27.67      4.460        27.67      96.50  \n9       71.75        25.13      5.980        25.13      95.25  \n10      29.25        26.30      3.250        26.30      51.40  \n11      31.55        24.00      3.160        24.00      27.48  \n12      25.95        23.38      2.880        23.38      42.05  \n13      27.75        22.22      2.780        22.22      21.70  \n14      15.55        25.00      1.730        25.00      27.30  \n15      18.10        25.00      1.650        25.00      47.25  \n16      23.98        23.29      2.400        23.29      24.20  \n17      26.80        25.67      2.230        25.67      19.75  \n18      49.00        24.63      5.440        24.63      56.20  \n19      20.45        24.18      1.280        24.18      36.05  \n20      14.45        25.70      1.450        25.70      19.40  \n21      30.40        22.92      2.030        22.92      28.80  \n22      31.70        25.40      3.520        25.40      26.15  \n23      14.95        25.57      1.250        25.57      14.85  \n24      22.10        24.40      2.460        24.40      40.95  \n25      15.43        24.50      1.540        24.50      18.05  \n26      12.75        26.14      0.911        26.14       6.80  \n27      26.38        26.00      2.030        26.00      15.85  \n28       7.60        29.00      0.760        29.00       6.28  \n29       5.90        24.38      0.492        24.38       8.50  ",
      "text/html": "<div>\n<style scoped>\n    .dataframe tbody tr th:only-of-type {\n        vertical-align: middle;\n    }\n\n    .dataframe tbody tr th {\n        vertical-align: top;\n    }\n\n    .dataframe thead th {\n        text-align: right;\n    }\n</style>\n<table border=\"1\" class=\"dataframe\">\n  <thead>\n    <tr style=\"text-align: right;\">\n      <th></th>\n      <th>Unnamed: 0</th>\n      <th>Team name</th>\n      <th>Year</th>\n      <th>GK_avg_age</th>\n      <th>GK_value</th>\n      <th>Def_avg_age</th>\n      <th>Def_value</th>\n      <th>Mid_avg_age</th>\n      <th>Mid_value</th>\n      <th>Att_avg_age</th>\n      <th>Att_value</th>\n    </tr>\n  </thead>\n  <tbody>\n    <tr>\n      <th>0</th>\n      <td>0</td>\n      <td>Arsenal FC</td>\n      <td>2005</td>\n      <td>29.50</td>\n      <td>7.43</td>\n      <td>23.58</td>\n      <td>59.05</td>\n      <td>22.20</td>\n      <td>4.920</td>\n      <td>22.20</td>\n      <td>97.83</td>\n    </tr>\n    <tr>\n      <th>1</th>\n      <td>1</td>\n      <td>Real Madrid</td>\n      <td>2005</td>\n      <td>24.25</td>\n      <td>27.50</td>\n      <td>25.83</td>\n      <td>76.10</td>\n      <td>24.00</td>\n      <td>6.340</td>\n      <td>24.00</td>\n      <td>98.50</td>\n    </tr>\n    <tr>\n      <th>2</th>\n      <td>2</td>\n      <td>Chelsea FC</td>\n      <td>2005</td>\n      <td>24.50</td>\n      <td>26.18</td>\n      <td>24.22</td>\n      <td>101.95</td>\n      <td>25.50</td>\n      <td>11.330</td>\n      <td>25.50</td>\n      <td>95.20</td>\n    </tr>\n    <tr>\n      <th>3</th>\n      <td>3</td>\n      <td>Bayern Munich</td>\n      <td>2005</td>\n      <td>30.25</td>\n      <td>5.63</td>\n      <td>26.88</td>\n      <td>63.75</td>\n      <td>26.00</td>\n      <td>7.970</td>\n      <td>26.00</td>\n      <td>29.00</td>\n    </tr>\n    <tr>\n      <th>4</th>\n      <td>4</td>\n      <td>Liverpool FC</td>\n      <td>2005</td>\n      <td>24.00</td>\n      <td>15.80</td>\n      <td>24.31</td>\n      <td>57.50</td>\n      <td>25.27</td>\n      <td>4.420</td>\n      <td>25.27</td>\n      <td>72.50</td>\n    </tr>\n    <tr>\n      <th>5</th>\n      <td>5</td>\n      <td>FC Barcelona</td>\n      <td>2005</td>\n      <td>25.50</td>\n      <td>12.75</td>\n      <td>25.17</td>\n      <td>70.85</td>\n      <td>25.00</td>\n      <td>5.900</td>\n      <td>25.00</td>\n      <td>146.05</td>\n    </tr>\n    <tr>\n      <th>6</th>\n      <td>6</td>\n      <td>Manchester United</td>\n      <td>2005</td>\n      <td>31.00</td>\n      <td>7.40</td>\n      <td>24.58</td>\n      <td>87.63</td>\n      <td>23.11</td>\n      <td>7.300</td>\n      <td>23.11</td>\n      <td>109.35</td>\n    </tr>\n    <tr>\n      <th>7</th>\n      <td>7</td>\n      <td>Inter Milan</td>\n      <td>2005</td>\n      <td>25.57</td>\n      <td>11.25</td>\n      <td>25.44</td>\n      <td>63.35</td>\n      <td>23.31</td>\n      <td>3.520</td>\n      <td>23.31</td>\n      <td>81.28</td>\n    </tr>\n    <tr>\n      <th>8</th>\n      <td>8</td>\n      <td>AC Milan</td>\n      <td>2005</td>\n      <td>28.17</td>\n      <td>12.25</td>\n      <td>28.92</td>\n      <td>58.00</td>\n      <td>27.67</td>\n      <td>4.460</td>\n      <td>27.67</td>\n      <td>96.50</td>\n    </tr>\n    <tr>\n      <th>9</th>\n      <td>9</td>\n      <td>Juventus FC</td>\n      <td>2005</td>\n      <td>24.29</td>\n      <td>35.40</td>\n      <td>27.75</td>\n      <td>71.75</td>\n      <td>25.13</td>\n      <td>5.980</td>\n      <td>25.13</td>\n      <td>95.25</td>\n    </tr>\n    <tr>\n      <th>10</th>\n      <td>10</td>\n      <td>SL Benfica</td>\n      <td>2005</td>\n      <td>23.33</td>\n      <td>9.55</td>\n      <td>25.78</td>\n      <td>29.25</td>\n      <td>26.30</td>\n      <td>3.250</td>\n      <td>26.30</td>\n      <td>51.40</td>\n    </tr>\n    <tr>\n      <th>11</th>\n      <td>11</td>\n      <td>PSV Eindhoven</td>\n      <td>2005</td>\n      <td>27.67</td>\n      <td>4.40</td>\n      <td>26.70</td>\n      <td>31.55</td>\n      <td>24.00</td>\n      <td>3.160</td>\n      <td>24.00</td>\n      <td>27.48</td>\n    </tr>\n    <tr>\n      <th>12</th>\n      <td>12</td>\n      <td>FC Porto</td>\n      <td>2005</td>\n      <td>26.50</td>\n      <td>6.25</td>\n      <td>25.00</td>\n      <td>25.95</td>\n      <td>23.38</td>\n      <td>2.880</td>\n      <td>23.38</td>\n      <td>42.05</td>\n    </tr>\n    <tr>\n      <th>13</th>\n      <td>13</td>\n      <td>LOSC Lille</td>\n      <td>2005</td>\n      <td>27.25</td>\n      <td>3.95</td>\n      <td>24.40</td>\n      <td>27.75</td>\n      <td>22.22</td>\n      <td>2.780</td>\n      <td>22.22</td>\n      <td>21.70</td>\n    </tr>\n    <tr>\n      <th>14</th>\n      <td>14</td>\n      <td>Fenerbahce</td>\n      <td>2005</td>\n      <td>27.33</td>\n      <td>4.40</td>\n      <td>25.00</td>\n      <td>15.55</td>\n      <td>25.00</td>\n      <td>1.730</td>\n      <td>25.00</td>\n      <td>27.30</td>\n    </tr>\n    <tr>\n      <th>15</th>\n      <td>15</td>\n      <td>Real Betis Balompié</td>\n      <td>2005</td>\n      <td>27.67</td>\n      <td>4.75</td>\n      <td>26.09</td>\n      <td>18.10</td>\n      <td>25.00</td>\n      <td>1.650</td>\n      <td>25.00</td>\n      <td>47.25</td>\n    </tr>\n    <tr>\n      <th>16</th>\n      <td>16</td>\n      <td>Ajax Amsterdam</td>\n      <td>2005</td>\n      <td>26.75</td>\n      <td>5.33</td>\n      <td>23.70</td>\n      <td>23.98</td>\n      <td>23.29</td>\n      <td>2.400</td>\n      <td>23.29</td>\n      <td>24.20</td>\n    </tr>\n    <tr>\n      <th>17</th>\n      <td>17</td>\n      <td>Villarreal CF</td>\n      <td>2005</td>\n      <td>23.00</td>\n      <td>4.85</td>\n      <td>25.75</td>\n      <td>26.80</td>\n      <td>25.67</td>\n      <td>2.230</td>\n      <td>25.67</td>\n      <td>19.75</td>\n    </tr>\n    <tr>\n      <th>18</th>\n      <td>18</td>\n      <td>Olympique Lyon</td>\n      <td>2005</td>\n      <td>24.00</td>\n      <td>9.18</td>\n      <td>26.67</td>\n      <td>49.00</td>\n      <td>24.63</td>\n      <td>5.440</td>\n      <td>24.63</td>\n      <td>56.20</td>\n    </tr>\n    <tr>\n      <th>19</th>\n      <td>19</td>\n      <td>Udinese Calcio</td>\n      <td>2005</td>\n      <td>25.50</td>\n      <td>9.00</td>\n      <td>25.13</td>\n      <td>20.45</td>\n      <td>24.18</td>\n      <td>1.280</td>\n      <td>24.18</td>\n      <td>36.05</td>\n    </tr>\n    <tr>\n      <th>20</th>\n      <td>20</td>\n      <td>Club Brugge KV</td>\n      <td>2005</td>\n      <td>26.00</td>\n      <td>3.85</td>\n      <td>26.10</td>\n      <td>14.45</td>\n      <td>25.70</td>\n      <td>1.450</td>\n      <td>25.70</td>\n      <td>19.40</td>\n    </tr>\n    <tr>\n      <th>21</th>\n      <td>21</td>\n      <td>Rangers FC</td>\n      <td>2005</td>\n      <td>29.33</td>\n      <td>5.00</td>\n      <td>24.53</td>\n      <td>30.40</td>\n      <td>22.92</td>\n      <td>2.030</td>\n      <td>22.92</td>\n      <td>28.80</td>\n    </tr>\n    <tr>\n      <th>22</th>\n      <td>22</td>\n      <td>RSC Anderlecht</td>\n      <td>2005</td>\n      <td>29.00</td>\n      <td>5.70</td>\n      <td>24.11</td>\n      <td>31.70</td>\n      <td>25.40</td>\n      <td>3.520</td>\n      <td>25.40</td>\n      <td>26.15</td>\n    </tr>\n    <tr>\n      <th>23</th>\n      <td>23</td>\n      <td>Olympiacos Piraeus</td>\n      <td>2005</td>\n      <td>24.50</td>\n      <td>3.95</td>\n      <td>29.08</td>\n      <td>14.95</td>\n      <td>25.57</td>\n      <td>1.250</td>\n      <td>25.57</td>\n      <td>14.85</td>\n    </tr>\n    <tr>\n      <th>24</th>\n      <td>24</td>\n      <td>SV Werder Bremen</td>\n      <td>2005</td>\n      <td>27.25</td>\n      <td>5.75</td>\n      <td>22.89</td>\n      <td>22.10</td>\n      <td>24.40</td>\n      <td>2.460</td>\n      <td>24.40</td>\n      <td>40.95</td>\n    </tr>\n    <tr>\n      <th>25</th>\n      <td>25</td>\n      <td>Panathinaikos FC</td>\n      <td>2005</td>\n      <td>27.25</td>\n      <td>3.90</td>\n      <td>24.50</td>\n      <td>15.43</td>\n      <td>24.50</td>\n      <td>1.540</td>\n      <td>24.50</td>\n      <td>18.05</td>\n    </tr>\n    <tr>\n      <th>26</th>\n      <td>26</td>\n      <td>AC Sparta Prague</td>\n      <td>2005</td>\n      <td>25.25</td>\n      <td>1.18</td>\n      <td>25.71</td>\n      <td>12.75</td>\n      <td>26.14</td>\n      <td>0.911</td>\n      <td>26.14</td>\n      <td>6.80</td>\n    </tr>\n    <tr>\n      <th>27</th>\n      <td>27</td>\n      <td>FC Schalke 04</td>\n      <td>2005</td>\n      <td>23.50</td>\n      <td>5.55</td>\n      <td>25.46</td>\n      <td>26.38</td>\n      <td>26.00</td>\n      <td>2.030</td>\n      <td>26.00</td>\n      <td>15.85</td>\n    </tr>\n    <tr>\n      <th>28</th>\n      <td>28</td>\n      <td>Rapid Vienna</td>\n      <td>2005</td>\n      <td>28.50</td>\n      <td>2.85</td>\n      <td>27.60</td>\n      <td>7.60</td>\n      <td>29.00</td>\n      <td>0.760</td>\n      <td>29.00</td>\n      <td>6.28</td>\n    </tr>\n    <tr>\n      <th>29</th>\n      <td>29</td>\n      <td>Rosenborg BK</td>\n      <td>2005</td>\n      <td>25.50</td>\n      <td>2.90</td>\n      <td>25.75</td>\n      <td>5.90</td>\n      <td>24.38</td>\n      <td>0.492</td>\n      <td>24.38</td>\n      <td>8.50</td>\n    </tr>\n  </tbody>\n</table>\n</div>"
     },
     "execution_count": 52,
     "metadata": {},
     "output_type": "execute_result"
    }
   ],
   "source": [
    "head_matches=all_matches.head(10)\n",
    "head_stats=team_stats.head(30)\n",
    "head_stats"
   ]
  },
  {
   "cell_type": "code",
   "execution_count": 53,
   "id": "0b72979c-faf2-45f4-9896-fee706c3779c",
   "metadata": {
    "scrolled": true,
    "ExecuteTime": {
     "end_time": "2024-01-27T14:09:04.035856500Z",
     "start_time": "2024-01-27T14:09:04.027791200Z"
    }
   },
   "outputs": [
    {
     "name": "stdout",
     "output_type": "stream",
     "text": [
      "['Arsenal FC' 'Real Madrid' 'Chelsea FC' 'Bayern Munich' 'Liverpool FC'\n",
      " 'FC Barcelona' 'Manchester United' 'Inter Milan' 'AC Milan' 'Juventus FC'\n",
      " 'SL Benfica' 'PSV Eindhoven' 'FC Porto' 'LOSC Lille' 'Fenerbahce'\n",
      " 'Real Betis Balompié' 'Ajax Amsterdam' 'Villarreal CF' 'Olympique Lyon'\n",
      " 'Udinese Calcio' 'Club Brugge KV' 'Rangers FC' 'RSC Anderlecht'\n",
      " 'Olympiacos Piraeus' 'SV Werder Bremen' 'Panathinaikos FC'\n",
      " 'AC Sparta Prague' 'FC Schalke 04' 'Rapid Vienna' 'Rosenborg BK'\n",
      " 'FC Thun' 'FC Petrzalka' 'AS Roma' 'Sporting CP' 'Galatasaray'\n",
      " 'Valencia CF' 'Celtic FC' 'Shakhtar Donetsk' 'Spartak Moscow'\n",
      " 'CSKA Moscow' 'FC Copenhagen' 'AEK Athens' 'Dynamo Kyiv' 'Hamburger SV'\n",
      " 'FCSB' 'FC Girondins Bordeaux' 'Levski Sofia' 'Olympique Marseille'\n",
      " 'SS Lazio' 'VfB Stuttgart' 'Sevilla FC' 'Besiktas JK' 'SK Slavia Prague'\n",
      " 'Atlético de Madrid' 'ACF Fiorentina' 'Zenit St. Petersburg'\n",
      " 'FC Basel 1893' 'CFR Cluj' 'Anorthosis Famagusta' 'Aalborg BK'\n",
      " 'BATE Borisov' 'VfL Wolfsburg' 'AZ Alkmaar' 'Standard Liège'\n",
      " 'Maccabi Haifa' 'Rubin Kazan' 'FC Zürich' 'APOEL Nicosia' 'Debreceni VSC'\n",
      " 'Unirea Urziceni ( - 2011)' 'Tottenham Hotspur' 'SC Braga'\n",
      " 'Twente Enschede FC' 'FK Partizan Belgrade' 'AJ Auxerre'\n",
      " 'Hapoel Tel Aviv' 'MSK Zilina' 'Bursaspor' 'Manchester City'\n",
      " 'Bayer 04 Leverkusen' 'SSC Napoli' 'Borussia Dortmund' 'KRC Genk'\n",
      " 'Trabzonspor' 'GNK Dinamo Zagreb' 'FC Viktoria Plzen' 'SC Otelul Galati'\n",
      " 'Paris Saint-Germain' 'Montpellier HSC' 'FC Nordsjaelland' 'Málaga CF'\n",
      " 'Real Sociedad' 'Austria Vienna' 'AS Monaco' 'Athletic Bilbao'\n",
      " 'Ludogorets Razgrad' 'Malmö FF' 'NK Maribor' 'Borussia Mönchengladbach'\n",
      " 'KAA Gent' 'Maccabi Tel Aviv' 'FC Astana' 'Leicester City' 'FK Rostov'\n",
      " 'Legia Warszawa' 'RB Leipzig' 'Feyenoord Rotterdam' 'Qarabağ FK'\n",
      " 'TSG 1899 Hoffenheim' 'Lokomotiv Moscow' 'Red Star Belgrade'\n",
      " 'BSC Young Boys' 'Atalanta BC' 'Red Bull Salzburg' 'Stade Rennais FC'\n",
      " 'FK Krasnodar' 'Basaksehir FK' 'Ferencvárosi TC' 'FC Midtjylland'\n",
      " 'FC Sheriff Tiraspol' 'Eintracht Frankfurt' 'Newcastle United' 'RC Lens'\n",
      " '1.FC Union Berlin' 'Royal Antwerp FC']\n"
     ]
    }
   ],
   "source": [
    "print(team_stats['Team name'].unique())"
   ]
  },
  {
   "cell_type": "code",
   "execution_count": 54,
   "id": "1ed97723-f53b-4781-b51d-f84e43dff2a8",
   "metadata": {
    "scrolled": true,
    "ExecuteTime": {
     "end_time": "2024-01-27T14:09:04.944854Z",
     "start_time": "2024-01-27T14:09:04.941628600Z"
    }
   },
   "outputs": [
    {
     "name": "stdout",
     "output_type": "stream",
     "text": [
      "['Bayern Munich' 'Juventus' 'Rapid Wien' 'Club Brugge' 'Ajax' 'Thun'\n",
      " 'Sparta Prague' 'Arsenal' 'Panathinaikos' 'Barcelona' 'Udinese'\n",
      " 'Werder Bremen' 'Manchester United' 'Lille' 'Villarreal' 'Benfica'\n",
      " 'Fenerbahe' 'Schalke 04' 'Milan' 'PSV Eindhoven' 'Real Madrid'\n",
      " 'Rosenborg' 'Lyon' 'Olympiacos' 'Anderlecht' 'Liverpool' 'Chelsea'\n",
      " 'Real Betis' 'Porto' 'Internazionale' 'Rangers' 'Artmedia' 'Levski Sofia'\n",
      " 'Spartak Moscow' 'Sporting CP' 'Bordeaux' 'Galatasaray' 'Valencia'\n",
      " 'Shakhtar Donetsk' 'Roma' 'Steaua Bucureti' 'Dynamo Kyiv' 'Celtic'\n",
      " 'Copenhagen' 'CSKA Moscow' 'Hamburg' 'AEK Athens' 'Beikta' 'Marseille'\n",
      " 'Lazio' 'Stuttgart' 'Sevilla' 'Slavia Prague' 'CFR Cluj'\n",
      " 'Anorthosis Famagusta' 'Basel' 'Atltico Madrid' 'Aalborg BK' 'Fiorentina'\n",
      " 'Zenit Saint Petersburg' 'BATE Borisov' 'Maccabi Haifa' 'Wolfsburg'\n",
      " 'Zrich' 'APOEL' 'Debrecen' 'Rubin Kazan' 'Inter Milan' 'Unirea Urziceni'\n",
      " 'AZ' 'Standard Lige' 'Tottenham Hotspur' 'Twente' 'Hapoel Tel Aviv'\n",
      " 'Bursaspor' 'ilina' 'Auxerre' 'Braga' 'Partizan' 'Napoli'\n",
      " 'Manchester City' 'Trabzonspor' 'Oelul Galai' 'Dinamo Zagreb'\n",
      " 'Bayer Leverkusen' 'Genk' 'Borussia Dortmund' 'Viktoria Plze'\n",
      " 'Paris SaintGermain' 'Montpellier' 'Mlaga' 'FC Nordsjlland'\n",
      " 'Real Sociedad' 'Austria Wien' 'Malm FF' 'Ludogorets Razgrad' 'Monaco'\n",
      " 'Maribor' 'Athletic Bilbao' 'VfL Wolfsburg' 'Astana'\n",
      " 'Borussia Mnchengladbach' 'Maccabi Tel Aviv' 'Gent' 'Rostov'\n",
      " 'Legia Warsaw' 'Leicester City' 'Qaraba' 'Feyenoord' 'RB Leipzig'\n",
      " 'Red Star Belgrade' 'Lokomotiv Moscow' '1899 Hoffenheim' 'Young Boys'\n",
      " 'Atalanta' 'Red Bull Salzburg' 'Midtjylland' 'Krasnodar' 'Rennes'\n",
      " 'Ferencvros' 'stanbul Baakehir' 'Sheriff Tiraspol' 'Eintracht Frankfurt']\n"
     ]
    }
   ],
   "source": [
    "print(all_matches['teamB'].unique())"
   ]
  },
  {
   "cell_type": "code",
   "execution_count": 55,
   "id": "d5399b57-8f0d-45f6-a508-b6db2653951a",
   "metadata": {
    "ExecuteTime": {
     "end_time": "2024-01-27T14:09:06.009703Z",
     "start_time": "2024-01-27T14:09:06.005190600Z"
    }
   },
   "outputs": [],
   "source": [
    "team_stats=team_stats.drop(['Unnamed: 0'], axis=1)"
   ]
  },
  {
   "cell_type": "code",
   "execution_count": 56,
   "id": "5bf1d724-ca54-44f5-ba0c-efcb317cdae0",
   "metadata": {
    "ExecuteTime": {
     "end_time": "2024-01-27T14:09:07.306935300Z",
     "start_time": "2024-01-27T14:09:07.302407200Z"
    }
   },
   "outputs": [],
   "source": [
    "#najpierw merge po jednej druzynie a potem po drugiej"
   ]
  },
  {
   "cell_type": "code",
   "execution_count": 57,
   "id": "5e3fa8b8-56b0-4241-a539-b65411ba0854",
   "metadata": {
    "ExecuteTime": {
     "end_time": "2024-01-27T14:09:08.190499800Z",
     "start_time": "2024-01-27T14:09:08.184090900Z"
    }
   },
   "outputs": [],
   "source": [
    "team_names_dict = {\n",
    "    'Arsenal FC': 'Arsenal',\n",
    "    'Real Madrid': 'Real Madrid',\n",
    "    'Chelsea FC': 'Chelsea',\n",
    "    'Bayern Munich': 'Bayern Munich',\n",
    "    'Liverpool FC': 'Liverpool',\n",
    "    'FC Barcelona': 'Barcelona',\n",
    "    'Manchester United': 'Manchester United',\n",
    "    'Inter Milan': 'Internazionale',\n",
    "    #z interem moze byc cos nie tak i wolfsburg tez\n",
    "    'AC Milan': 'Milan',\n",
    "    'Juventus FC':'Juventus',\n",
    "    'SL Benfica': 'Benfica',\n",
    "    'FC Porto': 'Porto',\n",
    "    'LOSC Lille': 'Lille',\n",
    "    'Fenerbahce': 'Fenerbahe',\n",
    "    'Real Betis Balompié': 'Real Betis',\n",
    "    'Ajax Amsterdam': 'Ajax',\n",
    "    'Villarreal CF': 'Villarreal',\n",
    "    'PSV Eindhoven':'PSV Eindhoven',\n",
    "    \n",
    "    'Olympique Lyon': 'Lyon',\n",
    "    'Udinese Calcio': 'Udinese',\n",
    "    'Club Brugge KV': 'Club Brugge',\n",
    "    'Rangers FC': 'Rangers',\n",
    "    'RSC Anderlecht': 'Anderlecht',\n",
    "    'Olympiacos Piraeus': 'Olympiacos',\n",
    "    'SV Werder Bremen': 'Werder Bremen',\n",
    "    'Panathinaikos FC': 'Panathinaikos',\n",
    "    'AC Sparta Prague': 'Sparta Prague',\n",
    "    'FC Schalke 04': 'Schalke 04',\n",
    "    'Rapid Vienna': 'Rapid Wien',\n",
    "    'Rosenborg BK': 'Rosenborg',\n",
    "\n",
    "    'FC Thun': 'Thun',\n",
    "    'FC Petrzalka': 'Artmedia',\n",
    "    'AS Roma': 'Roma',\n",
    "    'Sporting CP': 'Sporting CP',\n",
    "    'Galatasaray': 'Galatasaray',\n",
    "    'Valencia CF': 'Valencia',\n",
    "    'Celtic FC': 'Celtic',\n",
    "    'Shakhtar Donetsk': 'Shakhtar Donetsk',\n",
    "    'Spartak Moscow': 'Spartak Moscow',\n",
    "    'CSKA Moscow': 'CSKA Moscow',\n",
    "    'FC Copenhagen': 'Copenhagen',\n",
    "    'AEK Athens': 'AEK Athens',\n",
    "    'Dynamo Kyiv': 'Dynamo Kyiv',\n",
    "    'Hamburger SV': 'Hamburg',\n",
    "    \n",
    "    'FCSB': 'Steaua Bucureti',\n",
    "    'FC Girondins Bordeaux': 'Bordeaux',\n",
    "    'Levski Sofia': 'Levski Sofia',\n",
    "    'Olympique Marseille': 'Marseille',\n",
    "    'SS Lazio': 'Lazio',\n",
    "    'VfB Stuttgart': 'Stuttgart',\n",
    "    'Sevilla FC': 'Sevilla',\n",
    "    'Besiktas JK': 'Beikta',\n",
    "    'SK Slavia Prague': 'Slavia Prague',\n",
    "    'Atlético de Madrid': 'Atltico Madrid',\n",
    "    'ACF Fiorentina': 'Fiorentina',\n",
    "    'Zenit St. Petersburg': 'Zenit Saint Petersburg',\n",
    "    'FC Basel 1893': 'Basel',\n",
    "    'CFR Cluj': 'CFR Cluj',\n",
    "    'Anorthosis Famagusta': 'Anorthosis Famagusta',\n",
    "    'Aalborg BK': 'Aalborg BK',\n",
    "    'BATE Borisov': 'BATE Borisov',\n",
    "    'VfL Wolfsburg': 'Wolfsburg',\n",
    "\n",
    "    'AZ Alkmaar': 'AZ',\n",
    "    'Standard Liège': 'Standard Lige',\n",
    "    'Maccabi Haifa': 'Maccabi Haifa',\n",
    "    'Rubin Kazan': 'Rubin Kazan',\n",
    "    'FC Zürich': 'Zrich',\n",
    "    'APOEL Nicosia': 'Zrich' 'APOEL',\n",
    "    'Debreceni VSC': 'Debrecen',\n",
    "    'Unirea Urziceni ( - 2011)': 'Unirea Urziceni',\n",
    "    'Tottenham Hotspur': 'Tottenham Hotspur',\n",
    "    'SC Braga': 'Braga',\n",
    "    'Twente Enschede FC': 'Twente',\n",
    "    'FK Partizan Belgrade': 'Partizan',\n",
    "    'AJ Auxerre': 'Auxerre',\n",
    "    'Hapoel Tel Aviv': 'Hapoel Tel Aviv',\n",
    "    \n",
    "    'MSK Zilina': 'ilina',\n",
    "    'Bursaspor': 'Bursaspor',\n",
    "    'Manchester City': 'Manchester City',\n",
    "    'Bayer 04 Leverkusen': 'Bayer Leverkusen',\n",
    "    'SSC Napoli': 'Napoli',\n",
    "    'Borussia Dortmund': 'Borussia Dortmund',\n",
    "    'KRC Genk': 'Genk',\n",
    "    'Trabzonspor': 'Trabzonspor',\n",
    "    'GNK Dinamo Zagreb': 'Dinamo Zagreb',\n",
    "    'FC Viktoria Plzen': 'Viktoria Plze',\n",
    "    'SC Otelul Galati': 'Oelul Galai',\n",
    "    'Paris Saint-Germain': 'Paris SaintGermain',\n",
    "    'Montpellier HSC': 'Montpellier',\n",
    "    'FC Nordsjaelland': 'FC Nordsjlland',\n",
    "    'Málaga CF': 'Mlaga',\n",
    "    \n",
    "    'Real Sociedad': 'Real Sociedad',\n",
    "    'Austria Vienna': 'Austria Wien',\n",
    "    'AS Monaco': 'Monaco',\n",
    "    'Athletic Bilbao': 'Athletic Bilbao',\n",
    "    'Ludogorets Razgrad': 'Ludogorets Razgrad',\n",
    "    'Malmö FF': 'Malm FF',\n",
    "    'NK Maribor': 'Maribor',\n",
    "    'Borussia Mönchengladbach': 'Borussia Mnchengladbach',\n",
    "    'KAA Gent': 'Gent',\n",
    "    'Maccabi Tel Aviv': 'Maccabi Tel Aviv',\n",
    "    'FC Astana': 'Astana',\n",
    "    'Leicester City':'Leicester City',\n",
    "    'FK Rostov':'Rostov',\n",
    "    'Legia Warszawa':'Legia Warsaw',\n",
    "    'RB Leipzig':'RB Leipzig',\n",
    "    \n",
    "    'Feyenoord Rotterdam':'Feyenoord',\n",
    "    'Qarabağ FK':'Qaraba',\n",
    "    'TSG 1899 Hoffenheim':'1899 Hoffenheim',\n",
    "    'Lokomotiv Moscow':'Lokomotiv Moscow',\n",
    "    'Red Star Belgrade':'Red Star Belgrade',\n",
    "    'BSC Young Boys':'Young Boys',\n",
    "    'Atalanta BC':'Atalanta',\n",
    "    'Red Bull Salzburg':'Red Bull Salzburg',\n",
    "    'Stade Rennais FC':'Rennes',\n",
    "    'FK Krasnodar':'Krasnodar',\n",
    "    'Basaksehir FK':'stanbul Baakehir',\n",
    "    'Ferencvárosi TC':'Ferencvros',\n",
    "    'FC Midtjylland':'Midtjylland',\n",
    "    'FC Sheriff Tiraspol':'Sheriff Tiraspol',\n",
    "    'Eintracht Frankfurt':'Eintracht Frankfurt'\n",
    "}"
   ]
  },
  {
   "cell_type": "code",
   "execution_count": 58,
   "id": "48e5d7bb-e339-481b-a8cf-b8448fa1ab12",
   "metadata": {
    "ExecuteTime": {
     "end_time": "2024-01-27T14:09:09.027300500Z",
     "start_time": "2024-01-27T14:09:09.018966900Z"
    }
   },
   "outputs": [],
   "source": [
    "team_stats=team_stats.replace({\"Team name\":team_names_dict})"
   ]
  },
  {
   "cell_type": "code",
   "execution_count": 59,
   "id": "27b98482-fead-4750-9d53-0015fe7ab527",
   "metadata": {
    "ExecuteTime": {
     "end_time": "2024-01-27T14:09:09.808492900Z",
     "start_time": "2024-01-27T14:09:09.796062900Z"
    }
   },
   "outputs": [
    {
     "data": {
      "text/plain": "             Team name  Year  GK_avg_age  GK_value  Def_avg_age  Def_value  \\\n0              Arsenal  2005       29.50      7.43        23.58      59.05   \n1          Real Madrid  2005       24.25     27.50        25.83      76.10   \n2              Chelsea  2005       24.50     26.18        24.22     101.95   \n3        Bayern Munich  2005       30.25      5.63        26.88      63.75   \n4            Liverpool  2005       24.00     15.80        24.31      57.50   \n..                 ...   ...         ...       ...          ...        ...   \n603   Royal Antwerp FC  2023       26.00      8.85        25.90      27.90   \n604             Celtic  2023       33.00      1.90        24.10      41.25   \n605   Shakhtar Donetsk  2023       23.75      5.50        24.64      40.30   \n606  Red Star Belgrade  2023       29.67      2.35        25.33      13.90   \n607         Young Boys  2023       27.00      3.80        26.14      14.20   \n\n     Mid_avg_age  Mid_value  Att_avg_age  Att_value  \n0          22.20       4.92        22.20      97.83  \n1          24.00       6.34        24.00      98.50  \n2          25.50      11.33        25.50      95.20  \n3          26.00       7.97        26.00      29.00  \n4          25.27       4.42        25.27      72.50  \n..           ...        ...          ...        ...  \n603        24.11       2.79        24.11      45.50  \n604        24.00       4.13        24.00      42.65  \n605        22.77       3.66        22.77      37.60  \n606        23.80       1.16        23.80      34.65  \n607        25.00       2.03        25.00      19.30  \n\n[608 rows x 10 columns]",
      "text/html": "<div>\n<style scoped>\n    .dataframe tbody tr th:only-of-type {\n        vertical-align: middle;\n    }\n\n    .dataframe tbody tr th {\n        vertical-align: top;\n    }\n\n    .dataframe thead th {\n        text-align: right;\n    }\n</style>\n<table border=\"1\" class=\"dataframe\">\n  <thead>\n    <tr style=\"text-align: right;\">\n      <th></th>\n      <th>Team name</th>\n      <th>Year</th>\n      <th>GK_avg_age</th>\n      <th>GK_value</th>\n      <th>Def_avg_age</th>\n      <th>Def_value</th>\n      <th>Mid_avg_age</th>\n      <th>Mid_value</th>\n      <th>Att_avg_age</th>\n      <th>Att_value</th>\n    </tr>\n  </thead>\n  <tbody>\n    <tr>\n      <th>0</th>\n      <td>Arsenal</td>\n      <td>2005</td>\n      <td>29.50</td>\n      <td>7.43</td>\n      <td>23.58</td>\n      <td>59.05</td>\n      <td>22.20</td>\n      <td>4.92</td>\n      <td>22.20</td>\n      <td>97.83</td>\n    </tr>\n    <tr>\n      <th>1</th>\n      <td>Real Madrid</td>\n      <td>2005</td>\n      <td>24.25</td>\n      <td>27.50</td>\n      <td>25.83</td>\n      <td>76.10</td>\n      <td>24.00</td>\n      <td>6.34</td>\n      <td>24.00</td>\n      <td>98.50</td>\n    </tr>\n    <tr>\n      <th>2</th>\n      <td>Chelsea</td>\n      <td>2005</td>\n      <td>24.50</td>\n      <td>26.18</td>\n      <td>24.22</td>\n      <td>101.95</td>\n      <td>25.50</td>\n      <td>11.33</td>\n      <td>25.50</td>\n      <td>95.20</td>\n    </tr>\n    <tr>\n      <th>3</th>\n      <td>Bayern Munich</td>\n      <td>2005</td>\n      <td>30.25</td>\n      <td>5.63</td>\n      <td>26.88</td>\n      <td>63.75</td>\n      <td>26.00</td>\n      <td>7.97</td>\n      <td>26.00</td>\n      <td>29.00</td>\n    </tr>\n    <tr>\n      <th>4</th>\n      <td>Liverpool</td>\n      <td>2005</td>\n      <td>24.00</td>\n      <td>15.80</td>\n      <td>24.31</td>\n      <td>57.50</td>\n      <td>25.27</td>\n      <td>4.42</td>\n      <td>25.27</td>\n      <td>72.50</td>\n    </tr>\n    <tr>\n      <th>...</th>\n      <td>...</td>\n      <td>...</td>\n      <td>...</td>\n      <td>...</td>\n      <td>...</td>\n      <td>...</td>\n      <td>...</td>\n      <td>...</td>\n      <td>...</td>\n      <td>...</td>\n    </tr>\n    <tr>\n      <th>603</th>\n      <td>Royal Antwerp FC</td>\n      <td>2023</td>\n      <td>26.00</td>\n      <td>8.85</td>\n      <td>25.90</td>\n      <td>27.90</td>\n      <td>24.11</td>\n      <td>2.79</td>\n      <td>24.11</td>\n      <td>45.50</td>\n    </tr>\n    <tr>\n      <th>604</th>\n      <td>Celtic</td>\n      <td>2023</td>\n      <td>33.00</td>\n      <td>1.90</td>\n      <td>24.10</td>\n      <td>41.25</td>\n      <td>24.00</td>\n      <td>4.13</td>\n      <td>24.00</td>\n      <td>42.65</td>\n    </tr>\n    <tr>\n      <th>605</th>\n      <td>Shakhtar Donetsk</td>\n      <td>2023</td>\n      <td>23.75</td>\n      <td>5.50</td>\n      <td>24.64</td>\n      <td>40.30</td>\n      <td>22.77</td>\n      <td>3.66</td>\n      <td>22.77</td>\n      <td>37.60</td>\n    </tr>\n    <tr>\n      <th>606</th>\n      <td>Red Star Belgrade</td>\n      <td>2023</td>\n      <td>29.67</td>\n      <td>2.35</td>\n      <td>25.33</td>\n      <td>13.90</td>\n      <td>23.80</td>\n      <td>1.16</td>\n      <td>23.80</td>\n      <td>34.65</td>\n    </tr>\n    <tr>\n      <th>607</th>\n      <td>Young Boys</td>\n      <td>2023</td>\n      <td>27.00</td>\n      <td>3.80</td>\n      <td>26.14</td>\n      <td>14.20</td>\n      <td>25.00</td>\n      <td>2.03</td>\n      <td>25.00</td>\n      <td>19.30</td>\n    </tr>\n  </tbody>\n</table>\n<p>608 rows × 10 columns</p>\n</div>"
     },
     "execution_count": 59,
     "metadata": {},
     "output_type": "execute_result"
    }
   ],
   "source": [
    "team_stats"
   ]
  },
  {
   "cell_type": "code",
   "execution_count": 60,
   "id": "e0760907-c53e-4b51-9e10-6300788c84c4",
   "metadata": {
    "ExecuteTime": {
     "end_time": "2024-01-27T14:09:10.765290500Z",
     "start_time": "2024-01-27T14:09:10.758023Z"
    }
   },
   "outputs": [],
   "source": [
    "test_merge = pd.merge(all_matches, team_stats, left_on=['teamA', 'year'], right_on=['Team name', 'Year'], how='inner')"
   ]
  },
  {
   "cell_type": "code",
   "execution_count": 61,
   "id": "73cf1d19-eb31-43f2-8a05-3b826af9bad7",
   "metadata": {
    "ExecuteTime": {
     "end_time": "2024-01-27T14:09:11.470849900Z",
     "start_time": "2024-01-27T14:09:11.464015700Z"
    }
   },
   "outputs": [],
   "source": [
    "test_merge=test_merge.drop(['Team name','Year'], axis=1)\n",
    "test_merge=test_merge.rename(columns={\"GK_avg_age\": \"A_GK_AGE\", \"GK_value\": \"A_GK_VAL\",\n",
    "                                           \"Def_avg_age\": \"A_DEF_AGE\", \"Def_value\": \"A_DEF_VAL\", \"Mid_avg_age\": \"A_MID_AGE\",\n",
    "                                           \"Mid_value\": \"A_MID_VAL\", \"Att_avg_age\": \"A_ATT_AGE\", \"Att_value\": \"A_ATT_VAL\"\n",
    "                                          })"
   ]
  },
  {
   "cell_type": "code",
   "execution_count": 62,
   "id": "d516bdda-cc7d-41b9-a29f-182da1772382",
   "metadata": {
    "ExecuteTime": {
     "end_time": "2024-01-27T14:09:12.230133400Z",
     "start_time": "2024-01-27T14:09:12.218016300Z"
    }
   },
   "outputs": [
    {
     "data": {
      "text/plain": "                   teamA nationalityA  rankA               teamB nationalityB  \\\n0             Rapid Wien      Austria     14       Bayern Munich      Germany   \n1            Club Brugge      Belgium      9            Juventus        Italy   \n2               Juventus        Italy      3          Rapid Wien      Austria   \n3          Bayern Munich      Germany      5         Club Brugge      Belgium   \n4          Bayern Munich      Germany      5            Juventus        Italy   \n...                  ...          ...    ...                 ...          ...   \n1687  Paris SaintGermain       France      5             Benfica     Portugal   \n1688  Paris SaintGermain       France      5       Maccabi Haifa       Israel   \n1689             Benfica     Portugal      6            Juventus        Italy   \n1690            Juventus        Italy      3  Paris SaintGermain       France   \n1691       Maccabi Haifa       Israel     22             Benfica     Portugal   \n\n      rankB  score  year  A_GK_AGE  A_GK_VAL  A_DEF_AGE  A_DEF_VAL  A_MID_AGE  \\\n0         5      2  2005     28.50      2.85      27.60       7.60      29.00   \n1         3      2  2005     26.00      3.85      26.10      14.45      25.70   \n2        14      0  2005     24.29     35.40      27.75      71.75      25.13   \n3         9      0  2005     30.25      5.63      26.88      63.75      26.00   \n4         3      0  2005     30.25      5.63      26.88      63.75      26.00   \n...     ...    ...   ...       ...       ...        ...        ...        ...   \n1687      6      1  2022     28.20     52.60      24.50     288.15      26.50   \n1688     22      0  2022     28.20     52.60      24.50     288.15      26.50   \n1689      3      0  2022     24.40     21.43      26.79     125.05      24.83   \n1690      5      2  2022     26.00     14.63      27.67      78.40      23.45   \n1691      6      2  2022     26.50      0.90      26.93       7.08      27.33   \n\n      A_MID_VAL  A_ATT_AGE  A_ATT_VAL  \n0         0.760      29.00       6.28  \n1         1.450      25.70      19.40  \n2         5.980      25.13      95.25  \n3         7.970      26.00      29.00  \n4         7.970      26.00      29.00  \n...         ...        ...        ...  \n1687     20.580      26.50     353.50  \n1688     20.580      26.50     353.50  \n1689      8.930      24.83     161.50  \n1690      8.710      23.45     161.80  \n1691      0.505      27.33       7.93  \n\n[1692 rows x 16 columns]",
      "text/html": "<div>\n<style scoped>\n    .dataframe tbody tr th:only-of-type {\n        vertical-align: middle;\n    }\n\n    .dataframe tbody tr th {\n        vertical-align: top;\n    }\n\n    .dataframe thead th {\n        text-align: right;\n    }\n</style>\n<table border=\"1\" class=\"dataframe\">\n  <thead>\n    <tr style=\"text-align: right;\">\n      <th></th>\n      <th>teamA</th>\n      <th>nationalityA</th>\n      <th>rankA</th>\n      <th>teamB</th>\n      <th>nationalityB</th>\n      <th>rankB</th>\n      <th>score</th>\n      <th>year</th>\n      <th>A_GK_AGE</th>\n      <th>A_GK_VAL</th>\n      <th>A_DEF_AGE</th>\n      <th>A_DEF_VAL</th>\n      <th>A_MID_AGE</th>\n      <th>A_MID_VAL</th>\n      <th>A_ATT_AGE</th>\n      <th>A_ATT_VAL</th>\n    </tr>\n  </thead>\n  <tbody>\n    <tr>\n      <th>0</th>\n      <td>Rapid Wien</td>\n      <td>Austria</td>\n      <td>14</td>\n      <td>Bayern Munich</td>\n      <td>Germany</td>\n      <td>5</td>\n      <td>2</td>\n      <td>2005</td>\n      <td>28.50</td>\n      <td>2.85</td>\n      <td>27.60</td>\n      <td>7.60</td>\n      <td>29.00</td>\n      <td>0.760</td>\n      <td>29.00</td>\n      <td>6.28</td>\n    </tr>\n    <tr>\n      <th>1</th>\n      <td>Club Brugge</td>\n      <td>Belgium</td>\n      <td>9</td>\n      <td>Juventus</td>\n      <td>Italy</td>\n      <td>3</td>\n      <td>2</td>\n      <td>2005</td>\n      <td>26.00</td>\n      <td>3.85</td>\n      <td>26.10</td>\n      <td>14.45</td>\n      <td>25.70</td>\n      <td>1.450</td>\n      <td>25.70</td>\n      <td>19.40</td>\n    </tr>\n    <tr>\n      <th>2</th>\n      <td>Juventus</td>\n      <td>Italy</td>\n      <td>3</td>\n      <td>Rapid Wien</td>\n      <td>Austria</td>\n      <td>14</td>\n      <td>0</td>\n      <td>2005</td>\n      <td>24.29</td>\n      <td>35.40</td>\n      <td>27.75</td>\n      <td>71.75</td>\n      <td>25.13</td>\n      <td>5.980</td>\n      <td>25.13</td>\n      <td>95.25</td>\n    </tr>\n    <tr>\n      <th>3</th>\n      <td>Bayern Munich</td>\n      <td>Germany</td>\n      <td>5</td>\n      <td>Club Brugge</td>\n      <td>Belgium</td>\n      <td>9</td>\n      <td>0</td>\n      <td>2005</td>\n      <td>30.25</td>\n      <td>5.63</td>\n      <td>26.88</td>\n      <td>63.75</td>\n      <td>26.00</td>\n      <td>7.970</td>\n      <td>26.00</td>\n      <td>29.00</td>\n    </tr>\n    <tr>\n      <th>4</th>\n      <td>Bayern Munich</td>\n      <td>Germany</td>\n      <td>5</td>\n      <td>Juventus</td>\n      <td>Italy</td>\n      <td>3</td>\n      <td>0</td>\n      <td>2005</td>\n      <td>30.25</td>\n      <td>5.63</td>\n      <td>26.88</td>\n      <td>63.75</td>\n      <td>26.00</td>\n      <td>7.970</td>\n      <td>26.00</td>\n      <td>29.00</td>\n    </tr>\n    <tr>\n      <th>...</th>\n      <td>...</td>\n      <td>...</td>\n      <td>...</td>\n      <td>...</td>\n      <td>...</td>\n      <td>...</td>\n      <td>...</td>\n      <td>...</td>\n      <td>...</td>\n      <td>...</td>\n      <td>...</td>\n      <td>...</td>\n      <td>...</td>\n      <td>...</td>\n      <td>...</td>\n      <td>...</td>\n    </tr>\n    <tr>\n      <th>1687</th>\n      <td>Paris SaintGermain</td>\n      <td>France</td>\n      <td>5</td>\n      <td>Benfica</td>\n      <td>Portugal</td>\n      <td>6</td>\n      <td>1</td>\n      <td>2022</td>\n      <td>28.20</td>\n      <td>52.60</td>\n      <td>24.50</td>\n      <td>288.15</td>\n      <td>26.50</td>\n      <td>20.580</td>\n      <td>26.50</td>\n      <td>353.50</td>\n    </tr>\n    <tr>\n      <th>1688</th>\n      <td>Paris SaintGermain</td>\n      <td>France</td>\n      <td>5</td>\n      <td>Maccabi Haifa</td>\n      <td>Israel</td>\n      <td>22</td>\n      <td>0</td>\n      <td>2022</td>\n      <td>28.20</td>\n      <td>52.60</td>\n      <td>24.50</td>\n      <td>288.15</td>\n      <td>26.50</td>\n      <td>20.580</td>\n      <td>26.50</td>\n      <td>353.50</td>\n    </tr>\n    <tr>\n      <th>1689</th>\n      <td>Benfica</td>\n      <td>Portugal</td>\n      <td>6</td>\n      <td>Juventus</td>\n      <td>Italy</td>\n      <td>3</td>\n      <td>0</td>\n      <td>2022</td>\n      <td>24.40</td>\n      <td>21.43</td>\n      <td>26.79</td>\n      <td>125.05</td>\n      <td>24.83</td>\n      <td>8.930</td>\n      <td>24.83</td>\n      <td>161.50</td>\n    </tr>\n    <tr>\n      <th>1690</th>\n      <td>Juventus</td>\n      <td>Italy</td>\n      <td>3</td>\n      <td>Paris SaintGermain</td>\n      <td>France</td>\n      <td>5</td>\n      <td>2</td>\n      <td>2022</td>\n      <td>26.00</td>\n      <td>14.63</td>\n      <td>27.67</td>\n      <td>78.40</td>\n      <td>23.45</td>\n      <td>8.710</td>\n      <td>23.45</td>\n      <td>161.80</td>\n    </tr>\n    <tr>\n      <th>1691</th>\n      <td>Maccabi Haifa</td>\n      <td>Israel</td>\n      <td>22</td>\n      <td>Benfica</td>\n      <td>Portugal</td>\n      <td>6</td>\n      <td>2</td>\n      <td>2022</td>\n      <td>26.50</td>\n      <td>0.90</td>\n      <td>26.93</td>\n      <td>7.08</td>\n      <td>27.33</td>\n      <td>0.505</td>\n      <td>27.33</td>\n      <td>7.93</td>\n    </tr>\n  </tbody>\n</table>\n<p>1692 rows × 16 columns</p>\n</div>"
     },
     "execution_count": 62,
     "metadata": {},
     "output_type": "execute_result"
    }
   ],
   "source": [
    "test_merge"
   ]
  },
  {
   "cell_type": "code",
   "execution_count": 63,
   "id": "87781dec-91ea-43fc-9a94-2987e0b16449",
   "metadata": {
    "ExecuteTime": {
     "end_time": "2024-01-27T14:09:13.134882900Z",
     "start_time": "2024-01-27T14:09:13.123347400Z"
    }
   },
   "outputs": [],
   "source": [
    "test_merge = pd.merge(test_merge, team_stats, left_on=['teamB', 'year'], right_on=['Team name', 'Year'], how='inner')"
   ]
  },
  {
   "cell_type": "code",
   "execution_count": 64,
   "id": "f70bf949-6260-4c92-8f7b-fcb8c44c0680",
   "metadata": {
    "ExecuteTime": {
     "end_time": "2024-01-27T14:09:14.313772500Z",
     "start_time": "2024-01-27T14:09:14.299787300Z"
    }
   },
   "outputs": [],
   "source": [
    "test_merge=test_merge.rename(columns={\"GK_avg_age\": \"B_GK_AGE\", \"GK_value\": \"B_GK_VAL\",\n",
    "                                           \"Def_avg_age\": \"B_DEF_AGE\", \"Def_value\": \"B_DEF_VAL\", \"Mid_avg_age\": \"B_MID_AGE\",\n",
    "                                           \"Mid_value\": \"B_MID_VAL\", \"Att_avg_age\": \"B_ATT_AGE\", \"Att_value\": \"B_ATT_VAL\"\n",
    "                                          })\n",
    "test_merge=test_merge.drop(['Team name','Year'], axis=1)"
   ]
  },
  {
   "cell_type": "code",
   "execution_count": 65,
   "id": "8cdcd053-8454-4e8d-ba9a-97c0a603b99e",
   "metadata": {
    "ExecuteTime": {
     "end_time": "2024-01-27T14:09:15.280471200Z",
     "start_time": "2024-01-27T14:09:15.261118200Z"
    }
   },
   "outputs": [
    {
     "data": {
      "text/plain": "                   teamA nationalityA  rankA               teamB nationalityB  \\\n0             Rapid Wien      Austria     14       Bayern Munich      Germany   \n1            Club Brugge      Belgium      9            Juventus        Italy   \n2               Juventus        Italy      3          Rapid Wien      Austria   \n3          Bayern Munich      Germany      5         Club Brugge      Belgium   \n4          Bayern Munich      Germany      5            Juventus        Italy   \n...                  ...          ...    ...                 ...          ...   \n1651  Paris SaintGermain       France      5             Benfica     Portugal   \n1652  Paris SaintGermain       France      5       Maccabi Haifa       Israel   \n1653             Benfica     Portugal      6            Juventus        Italy   \n1654            Juventus        Italy      3  Paris SaintGermain       France   \n1655       Maccabi Haifa       Israel     22             Benfica     Portugal   \n\n      rankB  score  year  A_GK_AGE  A_GK_VAL  ...  A_ATT_AGE  A_ATT_VAL  \\\n0         5      2  2005     28.50      2.85  ...      29.00       6.28   \n1         3      2  2005     26.00      3.85  ...      25.70      19.40   \n2        14      0  2005     24.29     35.40  ...      25.13      95.25   \n3         9      0  2005     30.25      5.63  ...      26.00      29.00   \n4         3      0  2005     30.25      5.63  ...      26.00      29.00   \n...     ...    ...   ...       ...       ...  ...        ...        ...   \n1651      6      1  2022     28.20     52.60  ...      26.50     353.50   \n1652     22      0  2022     28.20     52.60  ...      26.50     353.50   \n1653      3      0  2022     24.40     21.43  ...      24.83     161.50   \n1654      5      2  2022     26.00     14.63  ...      23.45     161.80   \n1655      6      2  2022     26.50      0.90  ...      27.33       7.93   \n\n      B_GK_AGE  B_GK_VAL  B_DEF_AGE  B_DEF_VAL  B_MID_AGE  B_MID_VAL  \\\n0        30.25      5.63      26.88      63.75      26.00      7.970   \n1        24.29     35.40      27.75      71.75      25.13      5.980   \n2        28.50      2.85      27.60       7.60      29.00      0.760   \n3        26.00      3.85      26.10      14.45      25.70      1.450   \n4        24.29     35.40      27.75      71.75      25.13      5.980   \n...        ...       ...        ...        ...        ...        ...   \n1651     24.40     21.43      26.79     125.05      24.83      8.930   \n1652     26.50      0.90      26.93       7.08      27.33      0.505   \n1653     26.00     14.63      27.67      78.40      23.45      8.710   \n1654     28.20     52.60      24.50     288.15      26.50     20.580   \n1655     24.40     21.43      26.79     125.05      24.83      8.930   \n\n      B_ATT_AGE  B_ATT_VAL  \n0         26.00      29.00  \n1         25.13      95.25  \n2         29.00       6.28  \n3         25.70      19.40  \n4         25.13      95.25  \n...         ...        ...  \n1651      24.83     161.50  \n1652      27.33       7.93  \n1653      23.45     161.80  \n1654      26.50     353.50  \n1655      24.83     161.50  \n\n[1656 rows x 24 columns]",
      "text/html": "<div>\n<style scoped>\n    .dataframe tbody tr th:only-of-type {\n        vertical-align: middle;\n    }\n\n    .dataframe tbody tr th {\n        vertical-align: top;\n    }\n\n    .dataframe thead th {\n        text-align: right;\n    }\n</style>\n<table border=\"1\" class=\"dataframe\">\n  <thead>\n    <tr style=\"text-align: right;\">\n      <th></th>\n      <th>teamA</th>\n      <th>nationalityA</th>\n      <th>rankA</th>\n      <th>teamB</th>\n      <th>nationalityB</th>\n      <th>rankB</th>\n      <th>score</th>\n      <th>year</th>\n      <th>A_GK_AGE</th>\n      <th>A_GK_VAL</th>\n      <th>...</th>\n      <th>A_ATT_AGE</th>\n      <th>A_ATT_VAL</th>\n      <th>B_GK_AGE</th>\n      <th>B_GK_VAL</th>\n      <th>B_DEF_AGE</th>\n      <th>B_DEF_VAL</th>\n      <th>B_MID_AGE</th>\n      <th>B_MID_VAL</th>\n      <th>B_ATT_AGE</th>\n      <th>B_ATT_VAL</th>\n    </tr>\n  </thead>\n  <tbody>\n    <tr>\n      <th>0</th>\n      <td>Rapid Wien</td>\n      <td>Austria</td>\n      <td>14</td>\n      <td>Bayern Munich</td>\n      <td>Germany</td>\n      <td>5</td>\n      <td>2</td>\n      <td>2005</td>\n      <td>28.50</td>\n      <td>2.85</td>\n      <td>...</td>\n      <td>29.00</td>\n      <td>6.28</td>\n      <td>30.25</td>\n      <td>5.63</td>\n      <td>26.88</td>\n      <td>63.75</td>\n      <td>26.00</td>\n      <td>7.970</td>\n      <td>26.00</td>\n      <td>29.00</td>\n    </tr>\n    <tr>\n      <th>1</th>\n      <td>Club Brugge</td>\n      <td>Belgium</td>\n      <td>9</td>\n      <td>Juventus</td>\n      <td>Italy</td>\n      <td>3</td>\n      <td>2</td>\n      <td>2005</td>\n      <td>26.00</td>\n      <td>3.85</td>\n      <td>...</td>\n      <td>25.70</td>\n      <td>19.40</td>\n      <td>24.29</td>\n      <td>35.40</td>\n      <td>27.75</td>\n      <td>71.75</td>\n      <td>25.13</td>\n      <td>5.980</td>\n      <td>25.13</td>\n      <td>95.25</td>\n    </tr>\n    <tr>\n      <th>2</th>\n      <td>Juventus</td>\n      <td>Italy</td>\n      <td>3</td>\n      <td>Rapid Wien</td>\n      <td>Austria</td>\n      <td>14</td>\n      <td>0</td>\n      <td>2005</td>\n      <td>24.29</td>\n      <td>35.40</td>\n      <td>...</td>\n      <td>25.13</td>\n      <td>95.25</td>\n      <td>28.50</td>\n      <td>2.85</td>\n      <td>27.60</td>\n      <td>7.60</td>\n      <td>29.00</td>\n      <td>0.760</td>\n      <td>29.00</td>\n      <td>6.28</td>\n    </tr>\n    <tr>\n      <th>3</th>\n      <td>Bayern Munich</td>\n      <td>Germany</td>\n      <td>5</td>\n      <td>Club Brugge</td>\n      <td>Belgium</td>\n      <td>9</td>\n      <td>0</td>\n      <td>2005</td>\n      <td>30.25</td>\n      <td>5.63</td>\n      <td>...</td>\n      <td>26.00</td>\n      <td>29.00</td>\n      <td>26.00</td>\n      <td>3.85</td>\n      <td>26.10</td>\n      <td>14.45</td>\n      <td>25.70</td>\n      <td>1.450</td>\n      <td>25.70</td>\n      <td>19.40</td>\n    </tr>\n    <tr>\n      <th>4</th>\n      <td>Bayern Munich</td>\n      <td>Germany</td>\n      <td>5</td>\n      <td>Juventus</td>\n      <td>Italy</td>\n      <td>3</td>\n      <td>0</td>\n      <td>2005</td>\n      <td>30.25</td>\n      <td>5.63</td>\n      <td>...</td>\n      <td>26.00</td>\n      <td>29.00</td>\n      <td>24.29</td>\n      <td>35.40</td>\n      <td>27.75</td>\n      <td>71.75</td>\n      <td>25.13</td>\n      <td>5.980</td>\n      <td>25.13</td>\n      <td>95.25</td>\n    </tr>\n    <tr>\n      <th>...</th>\n      <td>...</td>\n      <td>...</td>\n      <td>...</td>\n      <td>...</td>\n      <td>...</td>\n      <td>...</td>\n      <td>...</td>\n      <td>...</td>\n      <td>...</td>\n      <td>...</td>\n      <td>...</td>\n      <td>...</td>\n      <td>...</td>\n      <td>...</td>\n      <td>...</td>\n      <td>...</td>\n      <td>...</td>\n      <td>...</td>\n      <td>...</td>\n      <td>...</td>\n      <td>...</td>\n    </tr>\n    <tr>\n      <th>1651</th>\n      <td>Paris SaintGermain</td>\n      <td>France</td>\n      <td>5</td>\n      <td>Benfica</td>\n      <td>Portugal</td>\n      <td>6</td>\n      <td>1</td>\n      <td>2022</td>\n      <td>28.20</td>\n      <td>52.60</td>\n      <td>...</td>\n      <td>26.50</td>\n      <td>353.50</td>\n      <td>24.40</td>\n      <td>21.43</td>\n      <td>26.79</td>\n      <td>125.05</td>\n      <td>24.83</td>\n      <td>8.930</td>\n      <td>24.83</td>\n      <td>161.50</td>\n    </tr>\n    <tr>\n      <th>1652</th>\n      <td>Paris SaintGermain</td>\n      <td>France</td>\n      <td>5</td>\n      <td>Maccabi Haifa</td>\n      <td>Israel</td>\n      <td>22</td>\n      <td>0</td>\n      <td>2022</td>\n      <td>28.20</td>\n      <td>52.60</td>\n      <td>...</td>\n      <td>26.50</td>\n      <td>353.50</td>\n      <td>26.50</td>\n      <td>0.90</td>\n      <td>26.93</td>\n      <td>7.08</td>\n      <td>27.33</td>\n      <td>0.505</td>\n      <td>27.33</td>\n      <td>7.93</td>\n    </tr>\n    <tr>\n      <th>1653</th>\n      <td>Benfica</td>\n      <td>Portugal</td>\n      <td>6</td>\n      <td>Juventus</td>\n      <td>Italy</td>\n      <td>3</td>\n      <td>0</td>\n      <td>2022</td>\n      <td>24.40</td>\n      <td>21.43</td>\n      <td>...</td>\n      <td>24.83</td>\n      <td>161.50</td>\n      <td>26.00</td>\n      <td>14.63</td>\n      <td>27.67</td>\n      <td>78.40</td>\n      <td>23.45</td>\n      <td>8.710</td>\n      <td>23.45</td>\n      <td>161.80</td>\n    </tr>\n    <tr>\n      <th>1654</th>\n      <td>Juventus</td>\n      <td>Italy</td>\n      <td>3</td>\n      <td>Paris SaintGermain</td>\n      <td>France</td>\n      <td>5</td>\n      <td>2</td>\n      <td>2022</td>\n      <td>26.00</td>\n      <td>14.63</td>\n      <td>...</td>\n      <td>23.45</td>\n      <td>161.80</td>\n      <td>28.20</td>\n      <td>52.60</td>\n      <td>24.50</td>\n      <td>288.15</td>\n      <td>26.50</td>\n      <td>20.580</td>\n      <td>26.50</td>\n      <td>353.50</td>\n    </tr>\n    <tr>\n      <th>1655</th>\n      <td>Maccabi Haifa</td>\n      <td>Israel</td>\n      <td>22</td>\n      <td>Benfica</td>\n      <td>Portugal</td>\n      <td>6</td>\n      <td>2</td>\n      <td>2022</td>\n      <td>26.50</td>\n      <td>0.90</td>\n      <td>...</td>\n      <td>27.33</td>\n      <td>7.93</td>\n      <td>24.40</td>\n      <td>21.43</td>\n      <td>26.79</td>\n      <td>125.05</td>\n      <td>24.83</td>\n      <td>8.930</td>\n      <td>24.83</td>\n      <td>161.50</td>\n    </tr>\n  </tbody>\n</table>\n<p>1656 rows × 24 columns</p>\n</div>"
     },
     "execution_count": 65,
     "metadata": {},
     "output_type": "execute_result"
    }
   ],
   "source": [
    "test_merge"
   ]
  },
  {
   "cell_type": "code",
   "execution_count": 66,
   "id": "05685bfb-c807-43e1-bebe-f06ead409d1b",
   "metadata": {
    "ExecuteTime": {
     "end_time": "2024-01-27T14:09:16.166401100Z",
     "start_time": "2024-01-27T14:09:16.143039100Z"
    }
   },
   "outputs": [
    {
     "data": {
      "text/plain": "      rankA  rankB  score  A_GK_AGE  A_GK_VAL  A_DEF_AGE  A_DEF_VAL  \\\n0        14      5      2     28.50      2.85      27.60       7.60   \n1         9      3      2     26.00      3.85      26.10      14.45   \n2         3     14      0     24.29     35.40      27.75      71.75   \n3         5      9      0     30.25      5.63      26.88      63.75   \n4         5      3      0     30.25      5.63      26.88      63.75   \n...     ...    ...    ...       ...       ...        ...        ...   \n1651      5      6      1     28.20     52.60      24.50     288.15   \n1652      5     22      0     28.20     52.60      24.50     288.15   \n1653      6      3      0     24.40     21.43      26.79     125.05   \n1654      3      5      2     26.00     14.63      27.67      78.40   \n1655     22      6      2     26.50      0.90      26.93       7.08   \n\n      A_MID_AGE  A_MID_VAL  A_ATT_AGE  A_ATT_VAL  B_GK_AGE  B_GK_VAL  \\\n0         29.00      0.760      29.00       6.28     30.25      5.63   \n1         25.70      1.450      25.70      19.40     24.29     35.40   \n2         25.13      5.980      25.13      95.25     28.50      2.85   \n3         26.00      7.970      26.00      29.00     26.00      3.85   \n4         26.00      7.970      26.00      29.00     24.29     35.40   \n...         ...        ...        ...        ...       ...       ...   \n1651      26.50     20.580      26.50     353.50     24.40     21.43   \n1652      26.50     20.580      26.50     353.50     26.50      0.90   \n1653      24.83      8.930      24.83     161.50     26.00     14.63   \n1654      23.45      8.710      23.45     161.80     28.20     52.60   \n1655      27.33      0.505      27.33       7.93     24.40     21.43   \n\n      B_DEF_AGE  B_DEF_VAL  B_MID_AGE  B_MID_VAL  B_ATT_AGE  B_ATT_VAL  \n0         26.88      63.75      26.00      7.970      26.00      29.00  \n1         27.75      71.75      25.13      5.980      25.13      95.25  \n2         27.60       7.60      29.00      0.760      29.00       6.28  \n3         26.10      14.45      25.70      1.450      25.70      19.40  \n4         27.75      71.75      25.13      5.980      25.13      95.25  \n...         ...        ...        ...        ...        ...        ...  \n1651      26.79     125.05      24.83      8.930      24.83     161.50  \n1652      26.93       7.08      27.33      0.505      27.33       7.93  \n1653      27.67      78.40      23.45      8.710      23.45     161.80  \n1654      24.50     288.15      26.50     20.580      26.50     353.50  \n1655      26.79     125.05      24.83      8.930      24.83     161.50  \n\n[1656 rows x 19 columns]",
      "text/html": "<div>\n<style scoped>\n    .dataframe tbody tr th:only-of-type {\n        vertical-align: middle;\n    }\n\n    .dataframe tbody tr th {\n        vertical-align: top;\n    }\n\n    .dataframe thead th {\n        text-align: right;\n    }\n</style>\n<table border=\"1\" class=\"dataframe\">\n  <thead>\n    <tr style=\"text-align: right;\">\n      <th></th>\n      <th>rankA</th>\n      <th>rankB</th>\n      <th>score</th>\n      <th>A_GK_AGE</th>\n      <th>A_GK_VAL</th>\n      <th>A_DEF_AGE</th>\n      <th>A_DEF_VAL</th>\n      <th>A_MID_AGE</th>\n      <th>A_MID_VAL</th>\n      <th>A_ATT_AGE</th>\n      <th>A_ATT_VAL</th>\n      <th>B_GK_AGE</th>\n      <th>B_GK_VAL</th>\n      <th>B_DEF_AGE</th>\n      <th>B_DEF_VAL</th>\n      <th>B_MID_AGE</th>\n      <th>B_MID_VAL</th>\n      <th>B_ATT_AGE</th>\n      <th>B_ATT_VAL</th>\n    </tr>\n  </thead>\n  <tbody>\n    <tr>\n      <th>0</th>\n      <td>14</td>\n      <td>5</td>\n      <td>2</td>\n      <td>28.50</td>\n      <td>2.85</td>\n      <td>27.60</td>\n      <td>7.60</td>\n      <td>29.00</td>\n      <td>0.760</td>\n      <td>29.00</td>\n      <td>6.28</td>\n      <td>30.25</td>\n      <td>5.63</td>\n      <td>26.88</td>\n      <td>63.75</td>\n      <td>26.00</td>\n      <td>7.970</td>\n      <td>26.00</td>\n      <td>29.00</td>\n    </tr>\n    <tr>\n      <th>1</th>\n      <td>9</td>\n      <td>3</td>\n      <td>2</td>\n      <td>26.00</td>\n      <td>3.85</td>\n      <td>26.10</td>\n      <td>14.45</td>\n      <td>25.70</td>\n      <td>1.450</td>\n      <td>25.70</td>\n      <td>19.40</td>\n      <td>24.29</td>\n      <td>35.40</td>\n      <td>27.75</td>\n      <td>71.75</td>\n      <td>25.13</td>\n      <td>5.980</td>\n      <td>25.13</td>\n      <td>95.25</td>\n    </tr>\n    <tr>\n      <th>2</th>\n      <td>3</td>\n      <td>14</td>\n      <td>0</td>\n      <td>24.29</td>\n      <td>35.40</td>\n      <td>27.75</td>\n      <td>71.75</td>\n      <td>25.13</td>\n      <td>5.980</td>\n      <td>25.13</td>\n      <td>95.25</td>\n      <td>28.50</td>\n      <td>2.85</td>\n      <td>27.60</td>\n      <td>7.60</td>\n      <td>29.00</td>\n      <td>0.760</td>\n      <td>29.00</td>\n      <td>6.28</td>\n    </tr>\n    <tr>\n      <th>3</th>\n      <td>5</td>\n      <td>9</td>\n      <td>0</td>\n      <td>30.25</td>\n      <td>5.63</td>\n      <td>26.88</td>\n      <td>63.75</td>\n      <td>26.00</td>\n      <td>7.970</td>\n      <td>26.00</td>\n      <td>29.00</td>\n      <td>26.00</td>\n      <td>3.85</td>\n      <td>26.10</td>\n      <td>14.45</td>\n      <td>25.70</td>\n      <td>1.450</td>\n      <td>25.70</td>\n      <td>19.40</td>\n    </tr>\n    <tr>\n      <th>4</th>\n      <td>5</td>\n      <td>3</td>\n      <td>0</td>\n      <td>30.25</td>\n      <td>5.63</td>\n      <td>26.88</td>\n      <td>63.75</td>\n      <td>26.00</td>\n      <td>7.970</td>\n      <td>26.00</td>\n      <td>29.00</td>\n      <td>24.29</td>\n      <td>35.40</td>\n      <td>27.75</td>\n      <td>71.75</td>\n      <td>25.13</td>\n      <td>5.980</td>\n      <td>25.13</td>\n      <td>95.25</td>\n    </tr>\n    <tr>\n      <th>...</th>\n      <td>...</td>\n      <td>...</td>\n      <td>...</td>\n      <td>...</td>\n      <td>...</td>\n      <td>...</td>\n      <td>...</td>\n      <td>...</td>\n      <td>...</td>\n      <td>...</td>\n      <td>...</td>\n      <td>...</td>\n      <td>...</td>\n      <td>...</td>\n      <td>...</td>\n      <td>...</td>\n      <td>...</td>\n      <td>...</td>\n      <td>...</td>\n    </tr>\n    <tr>\n      <th>1651</th>\n      <td>5</td>\n      <td>6</td>\n      <td>1</td>\n      <td>28.20</td>\n      <td>52.60</td>\n      <td>24.50</td>\n      <td>288.15</td>\n      <td>26.50</td>\n      <td>20.580</td>\n      <td>26.50</td>\n      <td>353.50</td>\n      <td>24.40</td>\n      <td>21.43</td>\n      <td>26.79</td>\n      <td>125.05</td>\n      <td>24.83</td>\n      <td>8.930</td>\n      <td>24.83</td>\n      <td>161.50</td>\n    </tr>\n    <tr>\n      <th>1652</th>\n      <td>5</td>\n      <td>22</td>\n      <td>0</td>\n      <td>28.20</td>\n      <td>52.60</td>\n      <td>24.50</td>\n      <td>288.15</td>\n      <td>26.50</td>\n      <td>20.580</td>\n      <td>26.50</td>\n      <td>353.50</td>\n      <td>26.50</td>\n      <td>0.90</td>\n      <td>26.93</td>\n      <td>7.08</td>\n      <td>27.33</td>\n      <td>0.505</td>\n      <td>27.33</td>\n      <td>7.93</td>\n    </tr>\n    <tr>\n      <th>1653</th>\n      <td>6</td>\n      <td>3</td>\n      <td>0</td>\n      <td>24.40</td>\n      <td>21.43</td>\n      <td>26.79</td>\n      <td>125.05</td>\n      <td>24.83</td>\n      <td>8.930</td>\n      <td>24.83</td>\n      <td>161.50</td>\n      <td>26.00</td>\n      <td>14.63</td>\n      <td>27.67</td>\n      <td>78.40</td>\n      <td>23.45</td>\n      <td>8.710</td>\n      <td>23.45</td>\n      <td>161.80</td>\n    </tr>\n    <tr>\n      <th>1654</th>\n      <td>3</td>\n      <td>5</td>\n      <td>2</td>\n      <td>26.00</td>\n      <td>14.63</td>\n      <td>27.67</td>\n      <td>78.40</td>\n      <td>23.45</td>\n      <td>8.710</td>\n      <td>23.45</td>\n      <td>161.80</td>\n      <td>28.20</td>\n      <td>52.60</td>\n      <td>24.50</td>\n      <td>288.15</td>\n      <td>26.50</td>\n      <td>20.580</td>\n      <td>26.50</td>\n      <td>353.50</td>\n    </tr>\n    <tr>\n      <th>1655</th>\n      <td>22</td>\n      <td>6</td>\n      <td>2</td>\n      <td>26.50</td>\n      <td>0.90</td>\n      <td>26.93</td>\n      <td>7.08</td>\n      <td>27.33</td>\n      <td>0.505</td>\n      <td>27.33</td>\n      <td>7.93</td>\n      <td>24.40</td>\n      <td>21.43</td>\n      <td>26.79</td>\n      <td>125.05</td>\n      <td>24.83</td>\n      <td>8.930</td>\n      <td>24.83</td>\n      <td>161.50</td>\n    </tr>\n  </tbody>\n</table>\n<p>1656 rows × 19 columns</p>\n</div>"
     },
     "execution_count": 66,
     "metadata": {},
     "output_type": "execute_result"
    }
   ],
   "source": [
    "final_df=test_merge.drop(['teamA','nationalityA','teamB','nationalityB','year'], axis=1)\n",
    "final_df"
   ]
  },
  {
   "cell_type": "code",
   "execution_count": 67,
   "id": "2a4b80ef-573e-46a5-9f59-bd97ebde860b",
   "metadata": {
    "ExecuteTime": {
     "end_time": "2024-01-27T14:09:17.809167200Z",
     "start_time": "2024-01-27T14:09:17.789685400Z"
    }
   },
   "outputs": [],
   "source": [
    "final_df.to_csv('final_dataframe.csv', index=False)"
   ]
  },
  {
   "cell_type": "code",
   "execution_count": 68,
   "id": "b3dab912-2ee3-445a-91f6-ccecb72b9f57",
   "metadata": {
    "ExecuteTime": {
     "end_time": "2024-01-27T14:09:18.904917200Z",
     "start_time": "2024-01-27T14:09:18.897781100Z"
    }
   },
   "outputs": [
    {
     "name": "stdout",
     "output_type": "stream",
     "text": [
      "Columns with NaN values: []\n"
     ]
    }
   ],
   "source": [
    "columns_with_nan = final_df.columns[final_df.isna().any()].tolist()\n",
    "print(f'Columns with NaN values: {columns_with_nan}')"
   ]
  },
  {
   "cell_type": "code",
   "execution_count": 69,
   "id": "940a3324-a8c2-4bc0-be46-be9bb8360193",
   "metadata": {
    "ExecuteTime": {
     "end_time": "2024-01-27T14:09:19.782423700Z",
     "start_time": "2024-01-27T14:09:19.773982400Z"
    }
   },
   "outputs": [
    {
     "data": {
      "text/plain": "(1656, 19)"
     },
     "execution_count": 69,
     "metadata": {},
     "output_type": "execute_result"
    }
   ],
   "source": [
    "final_df.shape"
   ]
  },
  {
   "cell_type": "code",
   "execution_count": null,
   "id": "3645cd38-4fbe-425b-ad79-8b60c7d31a26",
   "metadata": {},
   "outputs": [],
   "source": []
  },
  {
   "cell_type": "code",
   "execution_count": null,
   "id": "44d8832a-77e3-40b0-af5f-233297831c8a",
   "metadata": {},
   "outputs": [],
   "source": []
  },
  {
   "cell_type": "code",
   "execution_count": null,
   "id": "30e71599-17a4-4a6d-a48a-30fa34c54b74",
   "metadata": {},
   "outputs": [],
   "source": []
  }
 ],
 "metadata": {
  "kernelspec": {
   "display_name": "Python 3 (ipykernel)",
   "language": "python",
   "name": "python3"
  },
  "language_info": {
   "codemirror_mode": {
    "name": "ipython",
    "version": 3
   },
   "file_extension": ".py",
   "mimetype": "text/x-python",
   "name": "python",
   "nbconvert_exporter": "python",
   "pygments_lexer": "ipython3",
   "version": "3.9.13"
  }
 },
 "nbformat": 4,
 "nbformat_minor": 5
}
